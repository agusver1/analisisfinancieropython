{
  "nbformat": 4,
  "nbformat_minor": 0,
  "metadata": {
    "colab": {
      "name": "Trabajo Final Vergniaud.ipynb",
      "provenance": [],
      "collapsed_sections": []
    },
    "kernelspec": {
      "name": "python3",
      "display_name": "Python 3"
    }
  },
  "cells": [
    {
      "cell_type": "markdown",
      "metadata": {
        "id": "wSUUgYNilUHj"
      },
      "source": [
        "# ***Trabajo Final del Curso introductorio de Python IEEE***\n",
        "Tema a tratar: Análisis comparativo del mercado financiero\n",
        "Se busca realizar un programa que realice un **estudio comparativo del desempeño financiero de distintas empresas**.\n",
        "\n",
        "**Consignas:**\n",
        "\n",
        "\n",
        "\n",
        "*   Realizar un grafico del valor de las acciones diarias de las compañias Amazon y Google utilizando dos tipos de lineas distintos. \n",
        "\n",
        "*   Colocar como una entrada del programa el intervalo de fechas que se desea gráficar.\n",
        "\n",
        "*   Encontrar los puntos donde se cruzan los dos gráficos y marcarlos con puntos.\n",
        "\n",
        "*   Almacenar en un archivo de excel las fechas donde ocurrieron las intersecciones.\n",
        "\n",
        "*   Armar un programa donde se analize la información de ciertas empresas (entrada del usuario) y se las gráfique comparativamente.\n",
        "\n",
        "\n",
        "*   Gráficar la derivada discreta de los valores de bolsa de cada empresa, esto es, la diferencia entre el valor actual y el anterior para cada punto en el tiempo.\n",
        "\n",
        "*   Calcular cual es aquella que creció más y aquella que creció menos en el mes pasado (Marzo), en el mes anterior (Febrero) y los últimos 12 meses, almacenar la información en un archivo excel."
      ]
    },
    {
      "cell_type": "markdown",
      "metadata": {
        "id": "SaAvsFf8l86N"
      },
      "source": [
        "**Información del alumno:**\n",
        "\n",
        "Nombre: Agustín Ignacio Vergniaud\n",
        "\n",
        "Legajo: 60341"
      ]
    },
    {
      "cell_type": "markdown",
      "metadata": {
        "id": "6gRVV9hXkgK5"
      },
      "source": [
        "Es factible remarcar que busqué resolver las consignas de una manera genérica. Los puntos solicitados para **Google** y **Amazon** funcionan para estas empresas y para cualquier otra de **NASDAQ**. El analisis de crecimiento también se realizó de manera generica, dejando al usuario decidir sobre que intervalo de tiempo quiere analizar, y no solamente sobre Marzo, Febrero o asimismo 12 meses atrás."
      ]
    },
    {
      "cell_type": "code",
      "metadata": {
        "id": "aMSzOSNKaqf-",
        "colab": {
          "base_uri": "https://localhost:8080/"
        },
        "outputId": "583e5331-5e95-4d8f-ace1-bfb627a6a63b"
      },
      "source": [
        "pip install pandas"
      ],
      "execution_count": 1,
      "outputs": [
        {
          "output_type": "stream",
          "text": [
            "Requirement already satisfied: pandas in /usr/local/lib/python3.7/dist-packages (1.1.5)\n",
            "Requirement already satisfied: numpy>=1.15.4 in /usr/local/lib/python3.7/dist-packages (from pandas) (1.19.5)\n",
            "Requirement already satisfied: python-dateutil>=2.7.3 in /usr/local/lib/python3.7/dist-packages (from pandas) (2.8.1)\n",
            "Requirement already satisfied: pytz>=2017.2 in /usr/local/lib/python3.7/dist-packages (from pandas) (2018.9)\n",
            "Requirement already satisfied: six>=1.5 in /usr/local/lib/python3.7/dist-packages (from python-dateutil>=2.7.3->pandas) (1.15.0)\n"
          ],
          "name": "stdout"
        }
      ]
    },
    {
      "cell_type": "code",
      "metadata": {
        "id": "m0tTT4n0UTiM",
        "colab": {
          "base_uri": "https://localhost:8080/"
        },
        "outputId": "50dbab44-1942-4cbb-958a-cfdc59987d02"
      },
      "source": [
        "pip install yfinance"
      ],
      "execution_count": 2,
      "outputs": [
        {
          "output_type": "stream",
          "text": [
            "Collecting yfinance\n",
            "  Downloading https://files.pythonhosted.org/packages/7a/e8/b9d7104d3a4bf39924799067592d9e59119fcfc900a425a12e80a3123ec8/yfinance-0.1.55.tar.gz\n",
            "Requirement already satisfied: pandas>=0.24 in /usr/local/lib/python3.7/dist-packages (from yfinance) (1.1.5)\n",
            "Requirement already satisfied: numpy>=1.15 in /usr/local/lib/python3.7/dist-packages (from yfinance) (1.19.5)\n",
            "Requirement already satisfied: requests>=2.20 in /usr/local/lib/python3.7/dist-packages (from yfinance) (2.23.0)\n",
            "Requirement already satisfied: multitasking>=0.0.7 in /usr/local/lib/python3.7/dist-packages (from yfinance) (0.0.9)\n",
            "Collecting lxml>=4.5.1\n",
            "\u001b[?25l  Downloading https://files.pythonhosted.org/packages/d2/88/b25778f17e5320c1c58f8c5060fb5b037288e162bd7554c30799e9ea90db/lxml-4.6.2-cp37-cp37m-manylinux1_x86_64.whl (5.5MB)\n",
            "\u001b[K     |████████████████████████████████| 5.5MB 6.3MB/s \n",
            "\u001b[?25hRequirement already satisfied: pytz>=2017.2 in /usr/local/lib/python3.7/dist-packages (from pandas>=0.24->yfinance) (2018.9)\n",
            "Requirement already satisfied: python-dateutil>=2.7.3 in /usr/local/lib/python3.7/dist-packages (from pandas>=0.24->yfinance) (2.8.1)\n",
            "Requirement already satisfied: chardet<4,>=3.0.2 in /usr/local/lib/python3.7/dist-packages (from requests>=2.20->yfinance) (3.0.4)\n",
            "Requirement already satisfied: idna<3,>=2.5 in /usr/local/lib/python3.7/dist-packages (from requests>=2.20->yfinance) (2.10)\n",
            "Requirement already satisfied: urllib3!=1.25.0,!=1.25.1,<1.26,>=1.21.1 in /usr/local/lib/python3.7/dist-packages (from requests>=2.20->yfinance) (1.24.3)\n",
            "Requirement already satisfied: certifi>=2017.4.17 in /usr/local/lib/python3.7/dist-packages (from requests>=2.20->yfinance) (2020.12.5)\n",
            "Requirement already satisfied: six>=1.5 in /usr/local/lib/python3.7/dist-packages (from python-dateutil>=2.7.3->pandas>=0.24->yfinance) (1.15.0)\n",
            "Building wheels for collected packages: yfinance\n",
            "  Building wheel for yfinance (setup.py) ... \u001b[?25l\u001b[?25hdone\n",
            "  Created wheel for yfinance: filename=yfinance-0.1.55-py2.py3-none-any.whl size=22616 sha256=e6b22483510044f307d92d4012d6716e70d6512ef7d6d99516d0d754d16d01a8\n",
            "  Stored in directory: /root/.cache/pip/wheels/04/98/cc/2702a4242d60bdc14f48b4557c427ded1fe92aedf257d4565c\n",
            "Successfully built yfinance\n",
            "Installing collected packages: lxml, yfinance\n",
            "  Found existing installation: lxml 4.2.6\n",
            "    Uninstalling lxml-4.2.6:\n",
            "      Successfully uninstalled lxml-4.2.6\n",
            "Successfully installed lxml-4.6.2 yfinance-0.1.55\n"
          ],
          "name": "stdout"
        }
      ]
    },
    {
      "cell_type": "markdown",
      "metadata": {
        "id": "R-UZV6a6ltfN"
      },
      "source": [
        "En este bloque le daré forma a Empresas, que en su interior contendrá los nombres de las empresas a analizar y sus códigos de NASDAQ.\n",
        "A su vez, utilizaré mi referencia a todas las companias existentes en  NASDAQ con el archivo https://pkgstore.datahub.io/core/nasdaq-listings/nasdaq-listed_csv/data/7665719fb51081ba0bd834fde71ce822/nasdaq-listed_csv.csv\n",
        "\n",
        "---\n",
        "\n"
      ]
    },
    {
      "cell_type": "code",
      "metadata": {
        "id": "XBO4QjyL9Cb1"
      },
      "source": [
        "! wget https://pkgstore.datahub.io/core/nasdaq-listings/nasdaq-listed_csv/data/7665719fb51081ba0bd834fde71ce822/nasdaq-listed_csv.csv\n",
        "import pandas as pd\n",
        "import matplotlib.pyplot as plt\n",
        "import seaborn as sns\n",
        "import matplotlib.cbook as cbook\n",
        "import matplotlib.dates as mdates\n",
        "#Funcion general:\n",
        "#\tQue dados los nombres de varias empresas, las compara en un gráfico.\n",
        "\t\n",
        "\n",
        "empresas = {\n",
        "\t\"nombres\" : [],\n",
        "\t\"simbolo\" : [],\n",
        "}\n",
        "listings = pd.read_csv(\"nasdaq-listed_csv.csv\")\n"
      ],
      "execution_count": null,
      "outputs": []
    },
    {
      "cell_type": "markdown",
      "metadata": {
        "id": "vEgKDNZtnSMM"
      },
      "source": [
        "Aquí establezco la función **pushdata**, donde cargaré el diccionario empresas con la información pertinente. Es clave remarcar que \"codigo\" será una lista de empresas, ya que yo querré graficar y comparar una cantidad indefinida de empresas entre sí."
      ]
    },
    {
      "cell_type": "code",
      "metadata": {
        "id": "Ngp_mTkKAFV-"
      },
      "source": [
        "def pushData(codigo):\n",
        "\tfor k in listings.index:\n",
        "\t\tfor i in range(len(codigo)): #Ya que nombre será una lista\n",
        "\t\t\tif (codigo[i] == listings[\"Symbol\"][k]):\n",
        "\t\t\t\tempresas[\"nombres\"].append(listings[\"Company Name\"][k])\n",
        "\t\t\t\tempresas[\"simbolo\"].append(codigo[i])"
      ],
      "execution_count": null,
      "outputs": []
    },
    {
      "cell_type": "markdown",
      "metadata": {
        "id": "TIPS3vH2nvwq"
      },
      "source": [
        "Señalo función con la que voy a graficar y ordenar las fechas, de modo de que no se superpongan en el eje x al graficar."
      ]
    },
    {
      "cell_type": "code",
      "metadata": {
        "id": "7xHuZ-dPDIna"
      },
      "source": [
        "import pylab\n",
        "import matplotlib\n",
        "import matplotlib.dates as dates\n",
        "import time\n",
        "import datetime\n",
        "#Función para graficar y evadir superposiciones en el eje x\n",
        "def plotDates(x, y,subplots,codigoEmpresa):\n",
        "\tfig, ax = subplots\n",
        "\n",
        "\tdf = pd.DataFrame(\n",
        "        data=y, \n",
        "        index=pd.to_datetime(x),\n",
        "        columns=['A']\n",
        "\t)\n",
        "\n",
        "\tformatter = dates.DateFormatter('%Y-%m-%d') \n",
        "\tax.xaxis.set_major_formatter(formatter)\n",
        "\tplt.plot(df.index, df['A'],label=codigoEmpresa)\n",
        "\tfig.autofmt_xdate()\n",
        "\tplt.title(\"Comparación de valor de acciones\",size=20)\n",
        "\tplt.ylabel(\"Valor de Acciones (USD)\",size=20)\n",
        "\tplt.legend()"
      ],
      "execution_count": null,
      "outputs": []
    },
    {
      "cell_type": "markdown",
      "metadata": {
        "id": "rtfH42Zk9lEj"
      },
      "source": [
        "Con el motivo de diferenciar el **gráfico de la comparación** entre el crecimiento de las empresas creo otra función."
      ]
    },
    {
      "cell_type": "code",
      "metadata": {
        "id": "_C7MytDc9hw0"
      },
      "source": [
        "def plotDerivadas(x, y,subplots,codigoEmpresa):\n",
        "\tfig, ax = subplots\n",
        "\n",
        "\tdf = pd.DataFrame(\n",
        "        data=y, \n",
        "        index=pd.to_datetime(x),\n",
        "        columns=['A']\n",
        "\t)\n",
        "\n",
        "\tformatter = dates.DateFormatter('%Y-%m-%d') \n",
        "\tax.xaxis.set_major_formatter(formatter)\n",
        "\tplt.plot(df.index, df['A'],label=codigoEmpresa)\n",
        "\tfig.autofmt_xdate()\n",
        "\tplt.title(\"Comparación de crecimiento temporal del valor de acciones\",size=20)\n",
        "\tplt.ylabel(\"Valor de Acciones (USD)\",size=20)\n",
        "\tplt.legend()"
      ],
      "execution_count": null,
      "outputs": []
    },
    {
      "cell_type": "markdown",
      "metadata": {
        "id": "edFIRa_X_B33"
      },
      "source": [
        "Aquí agrego otra función para graficar los puntos de intersección, en caso de que el usuario añada **dos** empresas para comparar entre sí. De esta manera puedo resolver el ejercicio entre **GOOGLE** y **AMAZON** solicitado de manera general. El programa graficará las **dos** empresas que el usuario solicite y encontrará sus puntos de intersección."
      ]
    },
    {
      "cell_type": "code",
      "metadata": {
        "id": "rNiDmT6O_AKY"
      },
      "source": [
        "def plotDots(x, y,subplots):\n",
        "\tfig, ax = subplots\n",
        "\n",
        "\tdf = pd.DataFrame(\n",
        "        data=y, \n",
        "        index=pd.to_datetime(x),\n",
        "        columns=['A']\n",
        "\t)\n",
        "\n",
        "\tformatter = dates.DateFormatter('%Y-%m-%d') \n",
        "\tax.xaxis.set_major_formatter(formatter)\n",
        "\tplt.plot(df.index, df['A'],'o',label=\"Intersección\")"
      ],
      "execution_count": null,
      "outputs": []
    },
    {
      "cell_type": "markdown",
      "metadata": {
        "id": "Z8nQW-1Sn7xU"
      },
      "source": [
        "Descarga de datos de **YAHOO FINANCE** y prevención errores mediante el ingreso de datos erroneos."
      ]
    },
    {
      "cell_type": "code",
      "metadata": {
        "id": "8M-DTkHMDS_L"
      },
      "source": [
        "import yfinance as yf\n",
        "import sys\n",
        "#Conversión a csv de los datos de Yahoo Finance\n",
        "#Evitar el ingreso de datos incorrectos\n",
        "def guardarDatos(codigoEmpresa,desde,hasta):\n",
        "\tpushData(codigoEmpresa)\n",
        "\ttry:\n",
        "\t\tdatetime.datetime.strptime(desde, '%Y-%m-%d')\n",
        "\texcept:\n",
        "\t\tsys.exit(\"Ingrese la fecha inicial en el formato YY-MM-DD\")\n",
        "\ttry:\n",
        "\t\tdatetime.datetime.strptime(hasta, '%Y-%m-%d')\n",
        "\texcept:\n",
        "\t\tsys.exit(\"Ingrese la fecha final en el formato YY-MM-DD\")\n",
        "\tfor k in range(len(empresas[\"simbolo\"])):\n",
        "\t\tif codigoEmpresa[k] not in empresas[\"simbolo\"]:\n",
        "\t\t\treturn(\"No se encontro la empresa\")\n",
        "\t\telse:\n",
        "\t\t\tinfoempresa = yf.Ticker(str(empresas[\"simbolo\"][k]))\n",
        "\t\t\tinfoempresa.history(period=\"5y\")\n",
        "\t\t\tdata_df = yf.download(str(empresas[\"simbolo\"][k]), start=desde, end=hasta)\n",
        "\t\t\tdata_df.to_csv(str(empresas[\"simbolo\"][k])+\".csv\")"
      ],
      "execution_count": null,
      "outputs": []
    },
    {
      "cell_type": "markdown",
      "metadata": {
        "id": "ltGsQ2n-0443"
      },
      "source": [
        "Aquí introduzco una función que utilizaré luego con el fin de analizar el **crecimiento** de las acciones de las empresas solicitadas en función del tiempo."
      ]
    },
    {
      "cell_type": "code",
      "metadata": {
        "id": "Hw2xKXby8E85"
      },
      "source": [
        "def derivada(y,derivy):\n",
        "  for i in range(len(y)):\n",
        "    derivy.append(y[i]-y[i-1])"
      ],
      "execution_count": null,
      "outputs": []
    },
    {
      "cell_type": "markdown",
      "metadata": {
        "id": "S2-iv-GHoHiI"
      },
      "source": [
        "Ingreso de datos en los vectores que definirán la forma de mi gráfico en forma de abscisa y ordenada para la cantidad de empresas que solicite analizar."
      ]
    },
    {
      "cell_type": "code",
      "metadata": {
        "id": "fvcCHsQKDmMZ"
      },
      "source": [
        "#Datos de abscisa y ordenada para las empresas requeridas\n",
        "def lecturaDatos(codigoEmpresa,desde,hasta):\n",
        "\tguardarDatos(codigoEmpresa,desde,hasta)\n",
        "\tcompania={\n",
        "\t}\n",
        "\tx={\n",
        "\t}\n",
        "\ty={\n",
        "\t}\n",
        "\tinter={\n",
        "\t\t\t\"Date\":[],\n",
        "\t\t\t\"Open\":[],\n",
        "\t}\n",
        "\tcx=[]\n",
        "\tcy=[]\n",
        "\tderivx={\n",
        "\t}\n",
        "\tderivy={\n",
        "\t}\n",
        "\tfor k in empresas[\"simbolo\"]:\n",
        "\t\tdatos = pd.read_csv(str(k)+\".csv\")\n",
        "\t\tcompania[k] = datos.to_dict('list')\t\n",
        "\t# Creo keys y valores vacíos en mis diccionarios para utilizarlos luego\n",
        "\t\tx[k]=[]\n",
        "\t\ty[k]=[]\n",
        "\t\tderivx[k]=[]\n",
        "\t\tderivy[k]=[]\n",
        "\t\tif desde not in compania[k][\"Date\"]:\n",
        "\t\t\tsys.exit(\"La fecha \"+ desde +\" que usted ingreso no se encuentra en los archivos de NASDAQ para alguna de las empresas seleccionadas\")\n",
        "\t\tfor i in range(len(compania[k][\"Date\"])):\n",
        "\t\t\tx[k].append(compania[k][\"Date\"][i])\n",
        "\t\t\ty[k].append(compania[k][\"Open\"][i])\n",
        "\tsubplots = plt.subplots(figsize=(10, 6))\n",
        "\tfor k in empresas[\"simbolo\"]:\n",
        "\t\tplotDates(x[k],y[k],subplots,k)\n",
        "\tif len(codigoEmpresa)==2:\n",
        "\t\tfor i in range(len(x[empresas[\"simbolo\"][0]])): #Ya que son vectores paralelos los x\n",
        "\t\t\tif (y[empresas[\"simbolo\"][0]][i] == y[empresas[\"simbolo\"][1]][i]) or (y[empresas[\"simbolo\"][0]][i] > y[empresas[\"simbolo\"][1]][i] and y[empresas[\"simbolo\"][0]][i-1] < y[empresas[\"simbolo\"][1]][i-1]) or (y[empresas[\"simbolo\"][0]][i] < y[empresas[\"simbolo\"][1]][i] and y[empresas[\"simbolo\"][0]][i-1] > y[empresas[\"simbolo\"][1]][i-1]):\t\t\t\t\n",
        "\t\t\t\tcx.append(x[empresas[\"simbolo\"][0]][i])\n",
        "\t\t\t\tcy.append(y[empresas[\"simbolo\"][0]][i])\n",
        "\t\t\t\t#Para luego introducirlos en excel\n",
        "\t\t\t\tinter[\"Date\"].append(x[empresas[\"simbolo\"][0]][i])\n",
        "\t\t\t\tinter[\"Open\"].append(y[empresas[\"simbolo\"][0]][i])\n",
        "\t\tplotDots(cx,cy,subplots)\n",
        "\t\t#De esta manera paso la informacion sobre puntos de interseccion al archivo excel\n",
        "\t\tpuntos_interseccion = pd.DataFrame.from_dict(inter, orient=\"columns\")\t\t\n",
        "\t\tpuntos_interseccion.to_excel(\"puntos_interseccion.xlsx\")\n",
        "\t#Para satisfacer consigna de derivada\n",
        "\tgrafiderivada=plt.subplots(figsize=(9, 6))\n",
        "\tfor k in empresas[\"simbolo\"]:\n",
        "\t\tderivada(y[k],derivy[k])\n",
        "\t\tplotDerivadas(x[k],derivy[k],grafiderivada,k)"
      ],
      "execution_count": null,
      "outputs": []
    },
    {
      "cell_type": "code",
      "metadata": {
        "id": "p7-553fILK5N"
      },
      "source": [
        "def sumaLista(listaNumeros):\n",
        "    laSuma = 0.\n",
        "    for i in listaNumeros:\n",
        "        laSuma = laSuma + i\n",
        "    return laSuma"
      ],
      "execution_count": null,
      "outputs": []
    },
    {
      "cell_type": "markdown",
      "metadata": {
        "id": "jZJI4NsiRD90"
      },
      "source": [
        "Aquí haré un método genérico para evaluar el crecimiento de una empresa en el período de tiempo que uno desee con el proposito de salisfacer la consigna solicitada. Evalúo la **suma de las derivadas** de cada función en función del tiempo."
      ]
    },
    {
      "cell_type": "code",
      "metadata": {
        "id": "7KJM3tWy7kZc"
      },
      "source": [
        "import pandas as pd\n",
        "def crecimientoTemporal(codigoEmpresa,desde,hasta):\n",
        "  guardarDatos(codigoEmpresa,desde,hasta)\n",
        "  datosaComparar={\n",
        "\t}\n",
        "  derivy={\n",
        "\t}\n",
        "  y={\n",
        "  }\n",
        "  sumaderivada={\n",
        "  }\n",
        "  listasimbolos=[]\n",
        "  listadatos=[]\n",
        "  mini=0.\n",
        "  maxi=0.\n",
        "  punteroNombremax=-1\n",
        "  punteroNombremin=-1\n",
        "  for k in empresas[\"simbolo\"]:\n",
        "    datos = pd.read_csv(str(k)+\".csv\")\n",
        "    datosaComparar[k] = datos.to_dict('list')\t\n",
        "\t# Creo keys y valores vacíos en mis diccionarios para utilizarlos luego\n",
        "    y[k]=[]\n",
        "    sumaderivada[k]=[]\n",
        "    derivy[k]=[]\n",
        "    if desde not in datosaComparar[k][\"Date\"]:\n",
        "      sys.exit(\"La fecha \"+ desde +\" que usted ingreso no se encuentra en los archivos de NASDAQ para alguna de las empresas seleccionadas\")\n",
        "    for i in range(len(datosaComparar[k][\"Date\"])):\n",
        "      y[k].append(datosaComparar[k][\"Open\"][i])\n",
        "    derivada(y[k],derivy[k])  \n",
        "    for i in range (len(derivy[k])):\n",
        "      sumaderivada[k].append(derivy[k][i])\n",
        "    suma=sumaLista(sumaderivada[k])\n",
        "    listadatos.append(suma)\n",
        "    listasimbolos.append(k)\n",
        "  maxi=max(listadatos)\n",
        "  mini=min(listadatos)\n",
        "  #listadatos y listanombres son vectores paralelos\n",
        "  for i in range(len(listadatos)):\n",
        "    if maxi==listadatos[i]:\n",
        "      punteroNombremax=i\n",
        "  for i in range(len(listadatos)):\n",
        "    if min==listadatos[i]:\n",
        "      punteroNombremin=i\n",
        "  print(\"El valor máximo de crecimiento en el periodo de tiempo seleccionado es \"+ str(maxi) + \" y es de la empresa \" + listasimbolos[punteroNombremax])\n",
        "  print(\"El valor mínimo de crecimiento en el periodo de tiempo seleccionado es \"+ str(mini) + \" y es de la empresa \" + listasimbolos[punteroNombremin])\n"
      ],
      "execution_count": null,
      "outputs": []
    },
    {
      "cell_type": "code",
      "metadata": {
        "id": "KXQ6s3Nk9Oij"
      },
      "source": [
        "#Evito acumulación de datos de Google Collab\n",
        "empresas[\"nombres\"]=[]\n",
        "empresas[\"simbolo\"]=[]\n",
        "empresa=[]\n",
        "respuesta = \"si\"\n",
        "while respuesta==\"si\":\n",
        "  try:\n",
        "    codigo=str(input(\"Ingrese simbolo NASDAQ de empresa a evaluar \"))\n",
        "    empresa.append(codigo)\n",
        "    respuesta=str(input(\"Quiere seguir ingresando empresas? \")).lower()\n",
        "  except:\n",
        "    sys.exit(\"Por favor ingrese letras\")\n",
        "desde=input(\"Ingrese fecha inicial para comparar los valores de las acciones de las empresas \")\n",
        "hasta=input(\"Ingrese fecha final para comparar los valores de las acciones de las empresas \")\n",
        "lecturaDatos(empresa,desde,hasta)\n",
        "#Evito acumulación de datos de Google Collab\n",
        "empresas[\"nombres\"]=[]\n",
        "empresas[\"simbolo\"]=[]\n",
        "desdecrec=input(\"Ingrese fecha inicial para comparar crecimientos de las acciones de las empresas \")\n",
        "hastacrec=input(\"Ingrese fecha final para comparar crecimientos de las acciones de las empresas \")\n",
        "crecimientoTemporal(empresa,desdecrec,hastacrec)"
      ],
      "execution_count": null,
      "outputs": []
    }
  ]
}